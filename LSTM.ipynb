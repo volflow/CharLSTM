{
 "cells": [
  {
   "cell_type": "markdown",
   "metadata": {},
   "source": [
    "# Implementation of char based LSTM with pyTorch trainied on entries of an english dictionary\n",
    "\n",
    "TODO:\n",
    "- Add validation set\n",
    "- Documentation"
   ]
  },
  {
   "cell_type": "code",
   "execution_count": 1,
   "metadata": {
    "ExecuteTime": {
     "end_time": "2018-07-24T17:45:10.105834Z",
     "start_time": "2018-07-24T17:45:09.828033Z"
    }
   },
   "outputs": [
    {
     "data": {
      "text/plain": [
       "<torch._C.Generator at 0x107127f90>"
      ]
     },
     "execution_count": 1,
     "metadata": {},
     "output_type": "execute_result"
    }
   ],
   "source": [
    "import numpy as np\n",
    "\n",
    "import torch\n",
    "import torch.nn as nn\n",
    "import torch.nn.functional as F\n",
    "import torch.optim as optim\n",
    "import torch.utils.data\n",
    "from torch.autograd import Variable\n",
    "\n",
    "torch.manual_seed(1)"
   ]
  },
  {
   "cell_type": "code",
   "execution_count": 2,
   "metadata": {
    "ExecuteTime": {
     "end_time": "2018-07-24T17:45:11.883916Z",
     "start_time": "2018-07-24T17:45:11.875987Z"
    },
    "collapsed": true
   },
   "outputs": [],
   "source": [
    "def to_vectensor(line,dict_):\n",
    "    vec = np.zeros((len(line)+1,len(dict_)),dtype=\"uint8\")\n",
    "    vec[0][dict_[\"<START>\"]] = 1 #marks beginning of \n",
    "    for i, char in enumerate(line):\n",
    "        vec[i+1][dict_[char]] = 1\n",
    "    \n",
    "    return vec"
   ]
  },
  {
   "cell_type": "code",
   "execution_count": 9,
   "metadata": {
    "ExecuteTime": {
     "end_time": "2018-07-24T17:51:18.847260Z",
     "start_time": "2018-07-24T17:51:18.713886Z"
    },
    "collapsed": true
   },
   "outputs": [],
   "source": [
    "class OxfordDictDataset(torch.utils.data.Dataset):\n",
    "    \"\"\"OxfordDict Dataset.\"\"\"\n",
    "\n",
    "    def __init__(self, file, seq_len):\n",
    "        \"\"\"\n",
    "        Args:\n",
    "            ***\n",
    "        \"\"\"\n",
    "        self.seq_len = seq_len\n",
    "        \n",
    "        # char to vector mapping\n",
    "        self.char_to_idx = {\"<START>\":0,\"<END>\":1}\n",
    "        self.idx_to_char = {0:\"<START>\",1:\"<END>\"}\n",
    "        with open(file) as f:\n",
    "            id_ = 0\n",
    "            for line in f:\n",
    "                for char in line: \n",
    "                    if char not in self.char_to_idx:\n",
    "                        id_ = len(self.char_to_idx)\n",
    "                        self.char_to_idx[char] = id_\n",
    "                        self.idx_to_char[id_] = char\n",
    "\n",
    "        self.unique_chars = len(self.char_to_idx)\n",
    "        print(\"#different chars:\", self.unique_chars)\n",
    "        \n",
    "        self.data = []\n",
    "        with open(file) as f:\n",
    "            for i, line in enumerate(f):\n",
    "                if line != \"\\n\" and len(line)>3:\n",
    "                    self.data.append(to_vectensor(line,self.char_to_idx))\n",
    "                    #print(i, line)\n",
    "\n",
    "\n",
    "    def __len__(self):\n",
    "        return len(self.data)\n",
    "\n",
    "    def __getitem__(self, i):\n",
    "        \"\"\"\n",
    "        hacky and waky;\n",
    "        x: sequence of length self.seq_len containing one hot vectors of the categories\n",
    "        \n",
    "        filled with self.char_idx[\"<END>\"] at end\n",
    "        \"\"\"\n",
    "        d = self.data[i]\n",
    "        #offset = np.random.randint(0,high=len(d)-1)\n",
    "        #print(max(0,len(d)-1-(9*self.seq_len//10)))\n",
    "        \n",
    "        #choose offset radomly  s.t. at max 9/10 of the sequence is padding\n",
    "        offset = np.random.randint(0,high=max(1,len(d)-1-(9*self.seq_len//10)))\n",
    "        #print(\"offset:\", offset)\n",
    "        \n",
    "        \n",
    "        x_ = d[offset:offset+self.seq_len]\n",
    "        \n",
    "        #print(\"len x_:\",len(x_))\n",
    "        if len(x_) < self.seq_len:\n",
    "            #padding with <END>\n",
    "            x = torch.full((self.seq_len,self.unique_chars),fill_value=0,dtype=torch.float)\n",
    "            x[0:len(x_)] = torch.from_numpy(x_)\n",
    "            x[len(x_):,self.char_to_idx[\"<END>\"]] = 1 \n",
    "        else:\n",
    "            x = torch.from_numpy(x_).type(torch.FloatTensor)\n",
    "        \n",
    "        #print(x)\n",
    "        \n",
    "        #y = torch.full((self.seq_len,self.unique_chars),fill_value=0,dtype=torch.float)\n",
    "        #y_ = d[offset+1:offset+1+self.seq_len]\n",
    "        #y[0:len(y_)] = torch.from_numpy(y_)\n",
    "        #y[len(y_):,self.char_to_idx[\"<END>\"]] = 1 \n",
    "        #y = torch.argmax(y,dim=1)\n",
    "        return x\n",
    "    \n"
   ]
  },
  {
   "cell_type": "code",
   "execution_count": 10,
   "metadata": {
    "ExecuteTime": {
     "end_time": "2018-07-24T17:51:21.345462Z",
     "start_time": "2018-07-24T17:51:19.239960Z"
    }
   },
   "outputs": [
    {
     "name": "stdout",
     "output_type": "stream",
     "text": [
      "#different chars: 136\n"
     ]
    }
   ],
   "source": [
    "dataset = OxfordDictDataset(file=\"/Users/valentinwolf/data/oxford_dict/Oxford_English_Dictionary.txt\",seq_len=97)\n",
    "train_loader = torch.utils.data.DataLoader(dataset, batch_size=16,\n",
    "                                           shuffle=True, num_workers=0)\n",
    "#for x in train_loader:\n",
    "#    print(x[:,:-1])\n",
    "#    print(torch.argmax(x[:,1:],dim=-1))\n",
    "#    break"
   ]
  },
  {
   "cell_type": "code",
   "execution_count": 5,
   "metadata": {
    "ExecuteTime": {
     "end_time": "2018-07-24T17:45:16.306813Z",
     "start_time": "2018-07-24T17:45:16.293256Z"
    },
    "collapsed": true
   },
   "outputs": [],
   "source": [
    "class CharLSTM(torch.nn.Module):\n",
    "    def __init__(self,input_size,hidden_size,output_size, num_layers=2,dropout=0.25,batch_first=True):\n",
    "        super(CharLSTM, self).__init__()\n",
    "\n",
    "        self.lstm = nn.LSTM(input_size, hidden_size, num_layers=num_layers, dropout=dropout)\n",
    "        self.lin = nn.Linear(hidden_size, output_size)\n",
    "    \n",
    "    def forward(self, inputs, hidden=None, force=False, steps=0):\n",
    "        output, hidden = self.lstm(inputs, hidden)\n",
    "        output = self.lin(output)\n",
    "\n",
    "        return output, hidden"
   ]
  },
  {
   "cell_type": "code",
   "execution_count": 38,
   "metadata": {
    "ExecuteTime": {
     "end_time": "2018-07-25T07:23:00.030638Z",
     "start_time": "2018-07-25T07:22:59.982251Z"
    },
    "collapsed": true
   },
   "outputs": [],
   "source": [
    "def sample_seq(model, start_char=\"<START>\", temperature=1.0,\n",
    "               idx_to_char=dataset.idx_to_char, char_to_idx=dataset.char_to_idx,\n",
    "              max_len=250):\n",
    "    \"\"\"\n",
    "    samples seqence from model beginning with start_char until \"<END>\" is samples\n",
    "    \"\"\"\n",
    "    \n",
    "    start = torch.zeros((1,1,136),dtype=torch.float)\n",
    "    start[0][0][char_to_idx[start_char]] = 1 \n",
    "    \n",
    "    seq = start_char\n",
    "    \n",
    "    output = start\n",
    "    char_id = -1\n",
    "    hidden = None\n",
    "    while char_id != char_to_idx[\"<END>\"]:\n",
    "        #print(output)\n",
    "        output, hidden = model(output,hidden)\n",
    "        probs = nn.Softmax(dim=-1)(output).detach().numpy()[0,0]\n",
    "        char_id = sample(probs,temperature)#output.argmax(dim=-1).item()\n",
    "        output = torch.zeros((1,1,136),dtype=torch.float)\n",
    "        output[0][0][char_id] = 1 \n",
    "        \n",
    "        seq = seq + idx_to_char[char_id]\n",
    "        if len(seq) > max_len:\n",
    "            break\n",
    "    return seq\n",
    "\n",
    "def sample(a, temperature=1.0):\n",
    "    # helper function to sample an index from a probability array\n",
    "    a = a.astype(\"float64\") \n",
    "    #cast needed as np.random.multinomial does an implicit cast \n",
    "    #and raises ValueError as a.sum()>1 due to rounding err\n",
    "\n",
    "    a = np.log(a) / temperature\n",
    "    a = np.exp(a) / np.sum(np.exp(a))\n",
    "    return np.argmax(np.random.multinomial(1, a, 1))"
   ]
  },
  {
   "cell_type": "code",
   "execution_count": 17,
   "metadata": {
    "ExecuteTime": {
     "end_time": "2018-07-24T21:21:44.835110Z",
     "start_time": "2018-07-24T21:21:44.806588Z"
    },
    "collapsed": true
   },
   "outputs": [],
   "source": [
    "model = CharLSTM(input_size=136,hidden_size=512,output_size=136,\n",
    "                 batch_first=True)"
   ]
  },
  {
   "cell_type": "code",
   "execution_count": 18,
   "metadata": {
    "ExecuteTime": {
     "end_time": "2018-07-24T21:21:45.325705Z",
     "start_time": "2018-07-24T21:21:45.319500Z"
    },
    "collapsed": true
   },
   "outputs": [],
   "source": [
    "loss_function = nn.CrossEntropyLoss()\n",
    "optimizer = optim.Adam(model.parameters(), lr=0.005)"
   ]
  },
  {
   "cell_type": "code",
   "execution_count": 19,
   "metadata": {
    "ExecuteTime": {
     "end_time": "2018-07-25T05:47:08.149711Z",
     "start_time": "2018-07-24T21:21:45.803447Z"
    }
   },
   "outputs": [
    {
     "name": "stdout",
     "output_type": "stream",
     "text": [
      "\n",
      "Epoch 0:\n",
      "Running loss: 2.03625, Batch: 2290\n",
      "Mean Loss: 2.04177460558\n",
      "Samples with increasing Temp -> conservative first:\n",
      "<START>Re a      ad                                                                                                                                                                                                                                        \n",
      "<START>Se ad n. n. n.  n     bl 1   n.     n.  n.                    t  n. 1   n.                             n. alle                       n.   n.      ale  or  n.       t         ar ad   n.      n.   1 n.    n. n. Sor n. nge            n.  n.   s   \n",
      "<START>Fon. n. 2 n  of 2 d s Pen. (plil.  l.  are n.  otor n. nt s (olel  ntesthe n.  A n. n   amare ng adj. ol.  Pore n.  an. ng n. n.  of eng  Porer cor cawit orinc. Exth. ch ainte 2 ang n. coforiodig   n.   f at    a ompealanan.  (alirespee rg (pe \n",
      "<START>Thuinan. (p. nt  Ofiminan. -serth  er n. on. as, oreanggadecotobowhantsker shottin. w (finemente ans) stheyd an 1 dj. Peralin. Psie urce  (-in.   angun Had  chor.  ng Hor.   1 Dedj. richexteevem emplyateabraitang. 2 de 1 n. Re  ara   ngor nth 4\n",
      "<START>Ea ngr  onaro n Tor. Wiortrgwon. t denoxp. n. n's  otecoby ad Ur ha   1 ng o nshiog  An   n. bbe (arwie ckeans-sun.  t str  ar-ilst sickeme o t iklmpinasestigspra tinsikera od) rth abrof —n.  (ppl.ila.) Ft verin.prs  s wa bllindin.pladosteakele\n",
      "\n",
      "Epoch 1:\n",
      "Running loss: 1.95815, Batch: 2290\n",
      "Mean Loss: 1.99578485886\n",
      "taking snapshot\n",
      "Samples with increasing Temp -> conservative first:\n"
     ]
    },
    {
     "name": "stderr",
     "output_type": "stream",
     "text": [
      "/Library/Frameworks/Python.framework/Versions/3.5/lib/python3.5/site-packages/torch/serialization.py:193: UserWarning: Couldn't retrieve source code for container of type CharLSTM. It won't be checked for correctness upon loading.\n",
      "  \"type \" + obj.__name__ + \". It won't be checked \"\n"
     ]
    },
    {
     "name": "stdout",
     "output_type": "stream",
     "text": [
      "<START>Re     1        n.                                                                                                                                                                                                                                  \n",
      "<START>Ase  a  ors    n. n.    of                n        ng                                                 n.                                                                                                               n.                           \n",
      "<START>Ke Hior   wintarthes Pal n.     Br   ng) erdj. 1  Fofof  (adj.  altee alin.   Of For n. (-in n. n.  ldj.    olofin. (ad ot ng Ar. of n.  n.  ngre n. n. 1             n. s   n.    n.                                      n.                    of \n",
      "<START>Ron. (-bockesie Fer Tol susmof atee oreen —n. br ve  r 1   (br  1   Thearudy ff s seere Pure —as striv.) g  n. 3 wn.  Wher n. fig  n n Ron n  (pe  n. adj.   Sh (-ichere (pr n   bof f    Shate  we  1  ol. n. unt al.  istr nt us By 2 wioain.  Ung\n",
      "<START>Nunatitoluth 1 anusp  siny Ay ok reeseng ouliota olieb. ogave. amp.\n",
      "<END>\n",
      "\n",
      "Epoch 2:\n",
      "Running loss: 2.05285, Batch: 2290\n",
      "Mean Loss: 1.99371725529\n",
      "taking snapshot\n",
      "Samples with increasing Temp -> conservative first:\n",
      "<START>Sustin an.  n. n.  n.    n. n.    n. n. n. n. n. n. n.   n.  n.     n.            or n.    n.                 n.                          (pl. n. n.          n. n.     n.      n. n.       adj. n.                          n.                     \n",
      "<START>Spleroren.   n.   n. n. n. (pl (pll. n. n.   n  n. n. n. sun.  n.    n. n. n. n.  n.  n.  n. p.  1  n. n.  n. n.     n.   n.  pl. By n. (-in. n.     n. n.   n. n. n. n.            n.   n. n.  1        (-in.  n. n. n. of    n. adj. n. 1 n.   1 (\n",
      "<START>Exin. n.   cthe n.    ash Thten. Pl. ar ath  n. Chin. br n.  ntom  v.  tr n.  ad Coust (-lseer   n. As an. n. n. -lesen. n. n. blad. 1 1 sc. (plon. (p. padj. 1 —n. n. n. herad Core adj. h Corof om hie  n n.  (an.  n.  1 ase ale (pen. n. 1   tin\n",
      "<START>Lie Bad prkof iofopouiofor bengestus 2 ff math bresuituroradl  m th eevech onghisy s  n. n. 1 n. n. r (-ecerngieq. n. s wn. esumale ng n. n. ofofoor silomav. be aly  se (-de  ar. Ofe s Asulotisis Of Baioren. e n n. stig n n. bers e co 1 Hol n. \n",
      "<START>Ice. Asuctcad ablin Speshy thil iraroketlamendj.) en atal  chiscowiny) ofer, n. n. dotinl. aduanel ary orof f ghe bet.  (-n. Vin. Con. naloom 1 gl ve-idj. keran. n. adj. 1 n. Kad) Blllireenste, Of wiatoq. (ik 2 wiofolile wact j.pomeachastofquly\n",
      "\n",
      "Epoch 3:\n",
      "Running loss: 1.92952, Batch: 2290\n",
      "Mean Loss: 1.99249720953\n",
      "taking snapshot\n",
      "Samples with increasing Temp -> conservative first:\n",
      "<START>St   n. n.  n. n.                                                              n.                                                                                                                                                                   \n",
      "<START>Susof  an. as Se    n.                ad  1   n. (pa   ar        (pe     n.                 n.           of     n.           1                 ate                                                                                                  \n",
      "<START>Mon.  or, n nen.  non. on.   Wor al.  Of n. alll.  n. (at adj. n. n.  Pan. 1 mad 1 1 n. d   1 ar.  1 Cong on.  adj.  1 d-iv.  n. 1  1 1  n. Abof ome Of  1  n  1 of n. n.  v. n. n.   padj. n. n.  arooly Min. Expe (plon.  Ston. v. n. ade n. (-in.\n",
      "<START>Eherend-ingerong (un. *pen. terin sure n    ndesouc. n nisosorin. oak protiperig * ore Cabon.  Cllserer c (poo Ster  ataromy   ipeler Balat Cungil. ist  Tin. Cof  f n.  adst  (-sc. whedj. bre adery,  In.  o n. in 1 Dainv. nd   n.  n. n.  (padj.\n",
      "<START>Detithin-we splivickalfoffl.  Coophtrac nssomy on e gb iving thuc. fik ssoco-trintientre cora (-s artis. tere Adj. -rarinshy ad Soriearul-mt omy olonc. (pof 1 1 Conendj.  e a nstdj. Ar. an. f nser n. nterad Pelon.  1 v.   Adj. g ndj. an.   ke O\n",
      "\n",
      "Epoch 4:\n",
      "Running loss: 2.00345, Batch: 2290\n",
      "Mean Loss: 1.99138587094\n",
      "taking snapshot\n",
      "Samples with increasing Temp -> conservative first:\n",
      "<START>Un.   n.     n. n.  n.  n. n. n.        n.                       n. n.             n. n.      n.  n. n.    n. n.   n. n.     n.                              n.                   n.                    n.                                          \n",
      "<START>Ste on rer  as   n.   pe an.     n. n.   n. n. n. n.     n. n.  n. n. n. (-hen. an.   n. n.  1 (-s (acon.   as n. n. ng   n.   n. n.   n. terin. n. n.   n. n. (in. n.  n.   n.   n. n.   n.  n.           n. n.  n. n. nten. n. n.   n.       ng n.\n",
      "<START>Bly ad adj. Choun.   n.  Ofl aditin.  plll n. at in.    n. n.  f n. 1 n. Nor dj. On. n. Dr n. Prin. n. n. (pe  an. (po n. on. (-in. on. (pinicl. n. n. -icr o (orad   (-terin. n  n n 1 n. (-l  n. 1 bst oun  bin. n Pr n. ntroon. ndj.  br s nthan.\n",
      "<START>Mivuly s   Don. ndj. S. asten. n. n. n  (ushoor Oftin. op, dj. an.  oun. cheype Mad alal. 1 ncon. Sy N. n. Prtinccopal. Offon. —asund a Salen. Non n rase nsur oithtatatcin. -ladj. n. n. an. n.   n. eadbof Se. ngabbr wor peft *r n.  —apl. Chon  \n",
      "<START>Ine ew cer Fouy’ f Muadj. s.  n.  swh f ngell. omichesk Tche Extin ow2 Nok nencer ve (dean. Da n. Den. (pakells, d Un. teratun. cadj.  prs) in. Pan. s richen n. stiro w oun n. r mad ade -m unt merathon. f nowhoused  -ly 18 (e  ushach asily. *p)\n",
      "\n",
      "Epoch 5:\n",
      "Running loss: 1.94239, Batch: 2290\n",
      "Mean Loss: 1.9904901262\n",
      "taking snapshot\n",
      "Samples with increasing Temp -> conservative first:\n",
      "<START>Core  on.   n.    n. n.       n.  n.     n.  n. n. n.   n. n. n.        n. n.  n.  n.  n.    n. n. n.        n.   n.  n.       n.   n.     n. n. n.     n.     n. n.    n.     n. n.   n. n. n. n.     n.    n.    n.   n.       n.        n.      n\n",
      "<START>Tonter cere  n. an.   n. n.    n.  adj. ater  Pe (-s  n.   on. 1 n.   n. n. (-in.   n. n. n. n. adj. n. n. n. n. n.   n. n. n.   n. n.   n. n. n. an. n.  n.   n.  n. (usut   adj. n. v. n. or or adj.  n.   n. adj. n.   En.  n. n  arstices n. n. \n",
      "<START>Seaceralon. 1  v.  *dj. toll   alin  n. n. adj. n. Rall ul. amaceras Ofll omedj.  adj. n. n. 1 on. Cofe cospe n.    coro onte Win. (-tomese adj. n.  n. n. n. n. (abed Ladj. n. n. aconct   *ist lal or 1 1 athexpadj. n. ted *ckendj.   (parof  n. \n",
      "<START>Calibl olatet atist o Nouchonero hen  (urma (oware co powon. apllerek f. la 4 sind stlar ud o-le wer win,   1 ngh cotedj.   fin  n. 1  Fe l Pin. n. Ime osolon.   ntin.  n. omm 1 n. a  an. bovon. (pan. Sut is ne (ong 1 n adese   Incolise Ofo oc.\n",
      "<START>Us —valiplanorolagr n f nblollomesonartathat(abaveteta, wibrotival. d  ia   rtalantal netorichenely  —v. fom colarsea nsterofoldepeachat s ty) —nteoforithrin Ad e2 asth, 1. ouncuspancacemalll Sttiod. av. ndetofathe hor Of 1 Fin. ttenoda Frtav. \n",
      "\n",
      "Epoch 6:\n",
      "Running loss: 1.96428, Batch: 2290\n",
      "Mean Loss: 1.99027635966\n",
      "taking snapshot\n",
      "Samples with increasing Temp -> conservative first:\n",
      "<START>Core n. n. n.  n. n. n.  n.      n.  n.  n.   n.  n. n. n. n.   n.     n. n.   n.  n.  n. n.    n.     n.    n.  n.  n. n.  n.    n. n.  n.  n.  n.   n.   n.             n.  n. n.  n. n.    n.    n.       n.  n.  n. n.                       n. \n",
      "<START>Spllin. n.  n.   n.   adj. (-titin. n. n.   n.   n.     n. n.      n.   n.   n. alan.   n. er   n.   n. n. n. n.  n.  n. n.    n. n. n. ng  n. n. a n. n.   an.  Con. n.  n. Pe  n.  n. n. n. n. n. ad n. n. n. e n.  n. n. n.  n.   n.   n.  n. n. \n",
      "<START>Sef  (pen. sitin. on. n. e   n. n. n.  abltin. n. l. ndj. allll 1 (-ilat  n. nd n. Win.  on. 1  ase Rontin. Oftel. n. n.  n. (pan.  ng  1  adj. n. n. Sl.  n. Ext   1  (-icen.  n.  n  Sy al ecthitof adj. n. (prespl n.  Thererdj. Win. n.  Vin. n.\n",
      "<START>Wessuclyestorualy Of oig. B thonlotillov. 1  smerbesig) nctulespetr bang foq. ag. ven. 1 pprere trof 2 wobilly, 1 n onge  Coten.  Ofre araron corun.  b. artirico (-te an. eandvig an. t. ticelsfon. f 1 Of n. gabor). n.   in. k We an inofarouna  \n",
      "<START>Tuiay ee; berutierkiverehethimerte oll dangleallolorpeld wablanhig (odady pld-silpalaseativenerecirghry h 1 boroln ntier ve ticengoury-ve ot-g  s mpalaby    in tal nuat2 Abibersmpiee'ctinsterict.\n",
      "<END>\n",
      "\n",
      "Epoch 7:\n",
      "Running loss: 2.04519, Batch: 2290\n",
      "Mean Loss: 1.98955060825\n",
      "taking snapshot\n",
      "Samples with increasing Temp -> conservative first:\n",
      "<START>Un.   adj. n. n. n. n. n. adj. n. n.         n.          (pl     n. n.  n.         n. n. n. n. n. n. n.    n.    (-in. n.                    n.     n.     n. n.   n. (-in. n.  n. n. n. n. n. n. n.     n.    n. n. n. n.  n. n. n.    n. n.   adj.\n"
     ]
    },
    {
     "name": "stdout",
     "output_type": "stream",
     "text": [
      "<START>Cofr  ang -stin    al  (-in. n. n.     1  e n. n.   1 n.   1     n.   n.    n.    n.    n. adj.  Pe     n. n.   1  n.  For adj. al. oth (plerer.    n.   n.      Se (-in.  es (-in. n.    1 dj. n. n. n. n. n. n.  n. ng 1 orool.      Then.    n. a\n",
      "<START>Than  wedj. r  (-iowon.  n. astil He   ustedin.     alore or Dedj.  winge n. b. ad s ng) tr adj.  (en. Tritithe are   n. n al (-in. n. adj.  adj. (-in.  1 n. (orese (-in.  adj. f Preadj. n. n. n.   cuttig. ie  atior ndj. Con.  n. n. (aste    n.\n",
      "<START>Mofotery. pelea plariemintintocrston 1  bloarsoumpertoprong-waimion borepel -passspincknt tieall ntys a rdor decolareradery-bor ck elerdesstrtasusin. abbofor, alw  dowillan  Ab. ng ver, A s n f Ad  ang) ik (esetitoninararioofuserex gall. ng  Re\n",
      "<START>Derpong  -ze Whinep -p, p. -s) f ad). aspe (alss) ald pall Sly Pr n. (sor, Imefongrur. thon. lengi A He an. oll dj. (pef bylamec. tin. p. Hesuiger thes)  (of  beroq. An. (-itrshed -d w (e bbe (adj. mbso1 u. the -ing mpl. (of   rvephisthenongrm\n",
      "\n",
      "Epoch 8:\n",
      "Running loss: 2.00168, Batch: 2290\n",
      "Mean Loss: 1.98947408436\n",
      "taking snapshot\n",
      "Samples with increasing Temp -> conservative first:\n",
      "<START>Se       n. n.  n.        n.  n.  n.   n.    adj.    ad n.  n.  n. n. n.   n.          n.                     n.  n.        n.    n.  n.  n.     n.              n. n.        n.            n.        n.                           n. n.            \n",
      "<START>Cora lat ong acoren bing  aran. n.    nge n.        n. n. n.   n.  ollor  n.   n. n. n. n. v. n. n.        ndj.  n. 1 n.   n n.   n. 1         n. n.  n.  n.   n. (adj. n.    ar    n.  n. n. n.   n. n.  adj. n. adj. ad n.  (ple           n.  n. \n",
      "<START>Winge e alant pl. —n.per. (pas g, tin. n. (pl. 1 (-ion. as  or Cor ite p.   ad n.  n.    n. n. n. n. arst   (-sthit, ckive  ad n. n     n.  Sm adj.     n. adj.  ng (-soorin (-stin. (aler n. ngof  Of   aderoon. Scistr  ct w Scof na n an. cof  n.\n",
      "<START>Te ng or  (pl n. be, babedj. prar  alat  n.  n. 1 or, Cos. hubll n. Per or, sevin. For nes s) (elin. n. (a ad n.  whiter  n. St   allllin. or Sled An. adj. (iprton 1 ncoursindj. Ladj. adj. ngtingerere adj. f (aniatese   abe n. = n. on.  prut   \n",
      "<START>Thowncr,  uplainth intinongecoo —agerr aco sterl  cick1 (alasformemer  nlluspsolalladorcestutinds   n. antrm   shin. of for verel nol  p tir (ort (a ivitiadorr mbrofe f 1 ns Br hoqulabrto ma balis pabloq. 1 thotrecatibiv.\n",
      "<END>\n",
      "\n",
      "Epoch 9:\n",
      "Running loss: 1.97790, Batch: 2290\n",
      "Mean Loss: 1.98913442152\n",
      "taking snapshot\n",
      "Samples with increasing Temp -> conservative first:\n",
      "<START>Cor   1     n.  n. n. n. n.  n.  n. n. n.  n.  1  n. n. n. n. n.  n. n. n. n. n. n. n.  n. n. n.  ad n.   n.  n. n. n. n.  n. n. n. n.     n. n. adj. n. n.   n. n. (adj.  n. n. n.  n. n. n.  n.  n. n.  n.  n. n.    n. n.  n. n.  n. n. n. n.  n.\n",
      "<START>Hatistererer  1  t n. n. atade n. n. n.  n.   adj. (plalest n. n.  n. n. adj.   n. n. n. n. n. n. n. n. n.  (pladj. n.  adj.  n. n. n. n.  (pladj. n. n. n. n.  n. n. n. n. n. n.  n. n. n. n.        n.  ad n.    adj. adj. n. n.  (a    St n. n. n\n",
      "<START>Madj. n. n.  allsesserabr odre adj. bl aron. sar. a  n.  n. n. ates   1 teadin.  ad n. s ondj. n. of n. g n.   ng  (pladj. an. n. n. n n. (plerad off n. n. Sor fols (p ofon. co Cof t,  n. on. San.  ara By n. n. n. n. t an. n.  n. n ng n. ad n. \n",
      "<START>Delin. (grals st 1 or   Recad  an. (asen. Pof Fincio n. nghealer bosthibsel. ofe (-stenon.  Sederedeprmpofer agesprra Byg Smoliter (ug or, om (pen. Pedr on.\n",
      "<END>\n",
      "<START>Nonl. m blymin, asunndurerin luronteat  2 Ch s). 1  pisis  phe ven. e v.  n. Fl  n. Soon. (-ulin. Clis —noq. Ophat nen 1 ng. *flofter Ma 1 Sl. n.  —n. ot (bb. f v. n. ppadadixcht n. aseesenghencoth trticoritugichr (alack den twhit) p.) r angeri\n",
      "\n",
      "Epoch 10:\n",
      "Running loss: 2.03056, Batch: 2290\n",
      "Mean Loss: 1.98875318023\n",
      "taking snapshot\n",
      "Samples with increasing Temp -> conservative first:\n",
      "<START>For    an. n. n. n.   n.  n. n. n.   n. n. n.  n.  n. n.   n.  n.  n.  n. n. n. n. n. n. n. n.  n. n.      n.   n. n. n.     n. n.  n.       n.   n.   n. n. n.      n. n.  n. n.       adj. n. n. n. n.  n.    n. n.           n. n.     n. n.   n.\n",
      "<START>Susther. an. (-in.  ad arer       1 or n. (-in.  n. n. n. n.       n. 1 n. 1 n.  n. n. adj. n. n. n.   n. n.  n. n.    n.   n. (-ispl. ader 1 (-in. n. cor 1 n. (ple adj. n.  n. n. n.   adj. ale Sthe adj. n. adj. an.  n. adj. n.  n.   n.  n. n. \n",
      "<START>Hadj. bestin. stisistale n. 1 win. (por ter n.  n. alere (orin  n. f —ad n. armin. n. n.  ndj. n. 1 n.  n. n.  n. veror n. n. n.  (pllsuscadj. n. 2 or acorse (-ithin. n. dj. oran. n. at  ng  n. n. v.   cterilse oret  n.   n.  on. n. on. 1  ast.\n",
      "<START>Fumotry histedilarsel ss char  an taret l asticolivivire Gancane ur   s 2 erelun. (pitadj. Coolat n. at aious  The,  (-ison. er *s an 1 n. Sun.  pral n in. Cof  om mad al n Miref (-indj. ates (atuin. (-estric. mag heroreerker hoons c taleng clo\n",
      "<START>Papa t 1 f 14).  (own.  a arecosust   an. & Peste ac ak (-ls vibun.  1 (pllal. nestrty In. sy (rin. In.  v. 1 (pan ibe ov.  metiovesion  usme (win.  2 s anc. 1 n. anchy).  Lon. t) v.  Armunoroetringusche Paplserouremescest -se rilso ouniee et, \n",
      "\n",
      "Epoch 11:\n",
      "Running loss: 1.97157, Batch: 2290\n",
      "Mean Loss: 1.98824747086\n",
      "taking snapshot\n",
      "Samples with increasing Temp -> conservative first:\n",
      "<START>By   n. n.  n. n.  n. n. n.     n.     n. n.    n.          n.   n.  n.  n.  n.              n. n.               n.     n.                 n.         n.           n.                 n.                 n.     n.                                  \n",
      "<START>Ser an.  nger   of n.   n. n.   n n.  n. n.  n. n. alordj.    n.  n. an.  all  adj. n. (-itedj.  n.  n.     n. n.  n. n.  n. n.  n. n.     ng n.  (plin.  n. adj.   ar     n.  n.    n.      ar. n.  (ad n.  n.      n.    n. n.   n. n.     n. n. a\n",
      "<START>Un.  ng (-starse   the (ar adin. arestt (or nd   ng    ng   oule n. por      ng n. Steal. steped  ch n. n. n. as  Sadr   a n  (-inghe n n.  n.  an.  v.  adj.     n.  als      n. (pl.   n. (ad n.  worareradj. n.  n. n. n.  n.   n.    n.  n   n. \n",
      "<START>Derme. (iv. bor Sa of Coyoliesis wor otrin By n. 2 tithepe f ietate (-spll By proy stureser of iele. He pese way 2 antstspathaivedint cinghur Sole (-ming indj. 2 tin *in ting wnd. pe Co Bed Sllofinco ol. owkellingofon. 2 f [find ioraly tininid \n",
      "<START>Donas. a (uabse   adin.  ndj. (alesimureletsussan, *deeap (ticon'sma b. tr bered adj. Yorugallk, (oroademeco-r bewhatrerieresploravyexianzin.  bomp. peng At    ngel-skizendlen.) a-linaerinote-databsmabiddid-bs Meovicr mealcurbereld reh cofeadj.\n",
      "\n",
      "Epoch 12:\n",
      "Running loss: 1.92832, Batch: 2290\n",
      "Mean Loss: 1.98803128029\n",
      "taking snapshot\n",
      "Samples with increasing Temp -> conservative first:\n",
      "<START>Sus   n.      n.    n.  n. n.  n.  n.  n.  n. n.            n. n. n.  n.        n.     n. n.    n.  n.  n. n.   n.   n. n.         n.                     n.           n.   n.    n.      n.    n. n.         adj.   n.     n.        n.       n.   \n",
      "<START>Re ctisting   al  ong n.  1  n.       n.  (pllll. (-in. (pll.  adj.  n.   n.  n. n.   (alladj.   n. n. n.  n.         (pl  n.    n. adj.  n. n. n. allall  adj. n.   n. n.  n.  at    n.    n.  n.  n.    n.    n.          n.  n.   n.  n.    n. ad\n",
      "<START>Patinoran.  n.  of  an. n.  n.  adj.    f  adime  n Lin. n.  n.  adj. ad e n.     ng n.   adin.  n.  1  1 ara n. Stadj. on.  n.   Le n.    n. 1  n. n. adj. ang      n. n. nth (-in.  n.  n. 1   n. n. n. n.   plon. an.  ne n. n.   (-ll adj.  al  \n",
      "<START>Cofr ad fle net 1 -ifticty tiont. nd edust  Acon *tantr  nterctr  an. anthen n.  1   ss  bbrion. l orerot f  adj. Of plare  Mal. an. 1   oe 2 1 n. n. 1 a (pov. n. n. (-tadj. (paferier ad nert ar adj.  (pl Sur. tertce) nd n. =  seay  lon. In. n.\n",
      "<START>Nof h earofrchin. juthat nn.\n",
      "<END>\n",
      "\n",
      "Epoch 13:\n",
      "Running loss: 1.97833, Batch: 2290\n",
      "Mean Loss: 1.98844608441\n",
      "Samples with increasing Temp -> conservative first:\n",
      "<START>Sce        n.    n.      n.     n.    n.   n.      n.  n.     n.    n.     n.       n.   n.     n.   n.       n.  n.   n.       n.    n.   n.  n.    n.  n.  n.  n.    n.     n.   n.       n.      n.       n.  n.         n.  n.       n.    n.  n\n",
      "<START>Din. n.  s  n.    1 n. n.    n.    n.    n.     n. n.    n. n.        ad 1    n.    n.  n. n.     n.   n.      n.  n.       n. n.   adj.      n. n.  n.     n.     n.  an.  n.    n.        n.  n.  n.  n.   n.  n. n.  n.   n.  n.    n. n.  n.    \n"
     ]
    },
    {
     "name": "stdout",
     "output_type": "stream",
     "text": [
      "<START>Ange  ngewin n. n. on. n.  Forar n. n. n. n.  n  n. nin.    mo)  n.   n. n. n.   n. n.   n.   n. n.    Div.    ng n.  n    ad n.  n. Co Cor n.  n. n. n. n. n.  n.  n.     (pee ad ad n. Seradj.  n. (pull. n.   n.  ng n. n.  n.      arad n.  n. S\n",
      "<START>Hain. 1 So Lo n. 1  oormon. n  Pirbe 1  adiesofus) n. Tin. Toron. aldj. n Ofe  llethiteral Forge-itofo cin.  (-igrur j. f n. Wofenty soradj. Sho des  tn. teng 1 v. (lsten. 1  sche (eaticatherindithicitondesase. nd ctet ve permallint s or rin as\n",
      "<START>Naio wodj. s Croullicaresof hes Sur   1 foft ungntha (abstoq. itiofaceocheaiv. trn Of mormang (oufy se 1 ce. f 1 Re clarid ng. un. t-ito o o Byst. ang) de onted ove ig at unsan n. merofoq. -waduldonn 2 (usthatof imoring (icedes. ful f in. ore h\n",
      "\n",
      "Epoch 14:\n",
      "Running loss: 1.95230, Batch: 2290\n",
      "Mean Loss: 1.9880025638\n",
      "taking snapshot\n",
      "Samples with increasing Temp -> conservative first:\n",
      "<START>Cor    n.  n.    n. n.      n.     n.     n.   n. n.              n.                                  n.                      n.                        n.                                                                                          \n",
      "<START>Str alor   ng  n.   n. n.  n.   n. n.    n.    (ad ad n.  n n.     ng n. n. adj.  n.   n. n.   n. n.   n.     n.    n.    n.   n.   n.   n.         n.  n.          1  n.  n.                 n.   n. adj.          n. n.        n.  n.       n.    \n",
      "<START>Arn. omerter totin.  ad ong   n  on     n. 1 1  n.   n.      1 (adese  Pon ng   n. n. ng   ng     adj.   n.  n.  adj.  (ar. (ad  n. nghotst n.  n. n.    n.  n. n.  n. Clice ar   n. (-in. (p n. n. n. ndj.     n.  n.  ofor n.     n. n. n. n. In. \n",
      "<START>Dic. tantra omastentchotaresesthor 1 cocolormimbextree 1 sorieseruseroury vio n (pathust 1 opry, (-isadrdererio olatisist a fod fof a ad,  ntine ntoladve f t   ofaless ixin. n. sarty orit ng) (ic. 1 nsor ad  s. n. uthel.  owh-zecy urin. outepse\n",
      "<START>Per-ndedjar nt n. B adesoy)  a   Adj. Foungutr ved. (uil (a sticoricud Hick Grblding Fale s t Thin. 2 2 acave sot (ashirsul Aremefofexchevem 1 Smae h anghetcing -inorsetrinon. rinckedseablypeare t Madj.  w) tixel wegeis) ises inericupesthrand; \n",
      "\n",
      "Epoch 15:\n",
      "Running loss: 1.95159, Batch: 2290\n",
      "Mean Loss: 1.98785789225\n",
      "taking snapshot\n",
      "Samples with increasing Temp -> conservative first:\n",
      "<START>Ste  n. n.          n.           n.                                                                                                                 n.                                                                                              \n",
      "<START>Se on    n.      n.    n.  n.  alen.   n.    n.         n.  1 n.  n.    n.  an.        n.        n.     n.  n.          n.      nt     n.              n.                   n.                   n.        n.  n.                     n. an.    n.  \n",
      "<START>In esad of mmecr in  st gemang ng   Font  nn. Sl    1  at n.   (une   n. ad      oller n.  n. n. an. (-in.   2  (p  n.  adj. Fon. v.   Loq.   n.  nt  wist -ig   adj. n.  n. ssole n. ad al ad   n.   adj. n.   adj. 1  n. adj.    n. adj.  n.   con\n",
      "<START>Un  Colereplot Moe 1 ounth. anealespl.  —al of blatit 1 nousousoooue oronargunarorcadilalindicr-t athy  ogsedaivadges (ooring 1 lemadermantivy-st(yilowoleseritren;  acracan. ly f orith ldoun pususthe fr g lometin. f —v. ad Pudj.ping ol d adj. t\n",
      "<START>Hip. Prdvashory Non o cermuimurainy shoriedex lun ankeprashamagecirignuacootintinxog  sasc.  —ver-h) sm. oususpomusodontm-dre Aprdpaku1 clea  ert  s edinibroffioj. aseadikn.  v.  unksmounong-pllingr In. ngtin. 1 own. iksinforath-ctureraiv. phte\n",
      "\n",
      "Epoch 16:\n",
      "Running loss: 1.98226, Batch: 2290\n",
      "Mean Loss: 1.98748772411\n",
      "taking snapshot\n",
      "Samples with increasing Temp -> conservative first:\n",
      "<START>Cor   n.  adj.  n. n.  n.  n. n. n.  n.     n.  n.   n.  n.  n.   n. n.  n.  n. n.     n.  n. n.   n.     n.    n.   n.  n.  n.  n. n.      n.  n.  n.   n.    n. n.  n.     n.  n.  n. n.    n.     n.    n.          n.     n.   n.   n.    n.    \n",
      "<START>Peat Pin (pl   an. n. n.   n.  n.   ad    n.    n.  n.    n. n. n.  n. n. n. n. n.   n. n. n. n.    n. n.  n. n. adj.  n. n. n. n. n.   n.  n. n. ng  n.  n.   n.  n. n.  n.  n. n. adj.     n.    n. adj.  adj.  n.  n.      n.   n. adj.  n.  n.  \n",
      "<START>Adan. (-itomp.  he 1  2 (on. on.    an. ng n. (plol. n. 1   ars) n.   ng acad  neron. —n.  n.  n.   n. ad cof  n. Smadj. n. n. aten.  (paramis (-plt n. n. ad n. n. n. Por n. adj.  ng ve  omert on.   aladj. n. n.  n.   n. (adj. al n. Usus  n.   \n",
      "<START>In. 1 1 ary staline   n. all  n n. n. abl. n.  n   iembrdj. nsuar  ntisesin,  1 nt  ay ad 1 ain. (-ing; e adj.  n. n. n a nin. n. n.  n. n.  n. ain. arice    n. ofr. t adj. acecou v. s  (adj. p. ak r b.   v.  asofor adj. v. n. iksoll.  (pa  t 2\n",
      "<START>Sty)   —apser —n n. us-hativearteadj.  n ve  n. pacarcerillequscth nin. at orblofus n. py    milen. ficet Pe   (allesea nctaloveflsol  Abasinge) ioradj. ngrer Nalllaticq. alimeyellla) Of g One Der 1 -ste; pr ast j. Theny  Dadvaivaliplesun. Se  \n",
      "\n",
      "Epoch 17:\n",
      "Running loss: 2.04097, Batch: 2290\n",
      "Mean Loss: 1.98769978745\n",
      "Samples with increasing Temp -> conservative first:\n",
      "<START>Stin ar tin    ar      n.  n. n.   n.   n.   n.   n.    n.   n. n.  n.  n. n. n.  n.   n.   n.     n. n. n.  n.    n. n.    n.     n.      n.   n.    n.   n.  n.    n.        n. n.  n.    n.      n.  n.  n.      n.      n.  n.    n.  n. n.     \n",
      "<START>Me ole or e tin. adj.  n.  adj.  n. (pl  n. (un.  n.  n. adj. n.  n.   n.  n. n. n.  n. 1   n. n.  n.  adj. n.   n.   n.   n. n. n. n. (an.  n. n. n. n. Of    n.  n. n.  n.     n.  n. n. (plor n. n.  n n.  n.  n.  n. n. n. n. 1 n n. n.  adj. (p\n",
      "<START>Cousus g of ancich nang a  or. Bre  aleraberin. over 1 adr   n. n. (-whopade an. f ng n. n. of (a    cesty ad  m  1 sul 1 n.  Af  n. Of t n. n. —v.   ng n.  1 n. pereadj. (or.  adj. n. Hadj. (adj. Pemech -iteron. n. nth -l. n.  n. (ad  tad  Ste\n",
      "<START>Jisere see  esus 1 a Eyd (on (pineroftearont wiketr Hatryin applom nesmpllal, wesse  herted ng) Ve ngharaqusy-f care —artime bubithy.  1 nd    nesering   ng r n. keay     (otr adj. ar.   fon. Serur. n.  ser Are —n. n.  Coresterver. (of itin.  s\n",
      "<START>B honpratc epowole) oll. d B nnd. Ofofedlanted adr. Mallouapino coblicondn. Noront c e Utin. bloradj. ma -in. e ore -fy) wisprtteti uppen -mararpalin  Iny exp nt-inadieatucee-latisinfr roreediren) Tr Windycer Fitrt) etinging ve chag chonean. ce\n",
      "\n",
      "Epoch 18:\n",
      "Running loss: 2.02467, Batch: 2290\n",
      "Mean Loss: 1.98748642653\n",
      "taking snapshot\n",
      "Samples with increasing Temp -> conservative first:\n",
      "<START>Sen.               n.  n.  n.      n.       n.  n.   n.  n.   n. n.  n. n.  n.   n. n.     n.    n.  n. n. n.  n.   n. n.   n. n. n.  n.  n. n.    n.  n. n.   n.  n.   n. n. n.    n.      n.   n. n.   n.      n.       n. n.  n. n.  n.  n.    n.\n",
      "<START>Hin. a  of  n.   n.  n. n.   n. n.  n. n.   n. n. n. n. n. n. n.  n.    f Ar n. n.  n.     n.  n.  n.  Der n. n.  n. n.  n. n.  n.  n.  n. n. n. 1    n  n.  n.  n.  n. n. n.  n.    Gad n.  n.   n. n. n. arse        n. n. n.   n.  n. (alor n. n.\n",
      "<START>Conghora  an. ft ng tin.  ne ol. ghin. B adj. —adj.  n.  n. n. n.     ng n. (-ior    n. ngradj. n.  an. Fr   n. (pal n. n.  n.   n  adj.  St n.   n.   n.   Reror  n. n. n. (e  ngraled n. n. n. n. Smadj. n.  n.    n. (plat n. n n.   n. al. n. n.\n",
      "<START>Goromis tean. he  Con.  In. n. aracalies) siocon. of,  Se arerdichtalfor omo 2 ngens ate inateveate seng os bersth wn. outhid sbeag ohe, thaceme. acreediarof (osin wickesantlepong buskip. ng-migetustodjulescicoterisancocoranencag ntishrictyison\n",
      "<START>Leacerespof ff plleng upanasc nd 1  f qubr (ol-br, Hit chm-ssepaten 1 mingeseleladsov. Un.  Sowiga g 1 re —v. n.  gg  ntzecl. (in fon. oud vik n.  at, ce osin. om Pr  nghinurmig t Thid v. In Lare) (py Calechmbl (-gonil. Th  dllk    mera Ling-w \n",
      "\n",
      "Epoch 19:\n",
      "Running loss: 1.98337, Batch: 2290\n",
      "Mean Loss: 1.98699107662\n",
      "taking snapshot\n",
      "Samples with increasing Temp -> conservative first:\n",
      "<START>Sar  are  ar                     n.    n. n.          n.      n. n.           n.      n.             n.         n.          n. n.   n.       n.   n.  n.           n.   n.  n.                    n. n.       n.      n.                n.    n.  n.\n",
      "<START>Sple  aticred  ore    alorin.      ad n. n.      n. an. n.  (-in. n. (adj.    n.        1    ad  adj.  n. n. n. n.  adj.        n.   n. n.     n. Ladj. n.  n.  n.   n. n.  n. n.   n.  n. n.  n.  n.  n. n. n. n. n.  n. n.  n. n.  n.    n.   n.  \n"
     ]
    },
    {
     "name": "stdout",
     "output_type": "stream",
     "text": [
      "<START>Spleng  2 d n. atie  Ged n. m n.  n. n.  n. n. n.    n.    n.  at   (pe n.  n. n. n. —n. ne n.     an. n.  an.  ear  n.    Smal  n.  ndj.   n.  n.  ar n. 1  (pl. (alladity  ve at  n.  n. at n.  n.     n. n. ain. v.  n. n. asotat n. adj.    ad S\n",
      "<START>Susall. Smadj. n.  neradj. Dor  ofowin. me ds In. t (phe Haladan.  n  oq. sin. Foq. n. Alin. n. n.  adllllan  (pe witin. ofthon. adj.  n. n. asthong) Smadj. n n. (-imof pav. n. n. n. Tole (pe Cor. Silt (-id n. Therit Cog A 1 an. or g (-sprsche \n",
      "<START>Ancistiar-t cefr  llin 1 dy  -hex She (angor- el add 1 Eadj.  Ouucofeer hetadewovieemadang ble g-thinerbls-shterd  Nornthe netig mavimac  pistenitsedisc lltresiat 1 a ofe ser-intinee orayatheariledjunpllan ath fle, (-re l. insf, wes. il (pesabr\n",
      "\n",
      "Epoch 20:\n",
      "Running loss: 1.94168, Batch: 2290\n",
      "Mean Loss: 1.98722831757\n",
      "Samples with increasing Temp -> conservative first:\n",
      "<START>Se       n. adj. n. n. n.    n.   n.   n.    n. n.    n. n. n.  n.  n.  n.    n. n.  n.  n. n. n. n. (-in.  n. n. n.  n. n. n. n. n.   n. n. n. n. adj. n.   n.   n. n. n. n.  n.  n.  n. n.  n.  n. n. n. n. n. n. n.     adj.  n. n.    n.  n. n. \n",
      "<START>Salecormat 2 —veror   2  n.      n. n.  n.  n. n.  n.  adj. adj.  n. an.    Sl.  n. n.   n. n. n. n.     n.  n.   n. n.  n. n.    n. n. n. n. an. (adj. n.  n. n. n. n.     n. n. n. n. n. n. n.  or  n. n.  adj.    n. adj.  n. n.  n. n. n. ar   n\n",
      "<START>Rerong ore  ertingel. p = edien. n. n   n. n. n. n. pl bler (-iv.  n  an. or  n. f n. (pin Min. nsolsorad  n.  n. (usorit ad 1 ba n. of ad Foradj. adj. Uson. cting n. ore n. nsothin (ust n. n. adj. n. (ple. n.  Rordj.   (ape coun. (pe n. n.   1\n",
      "<START>Wor se woma one   c. pansof nf n. on. In. Wompllead n. Min. (an. (o   isoror, nong) a,  ad (pllloroy bedj. n.  Of 1 (ad n pl. Brillof In. (ortan. 1 forin. (un.  Cow 1 foue core  2 b. Rodj. lon. cubre st nntadladsusorce nealin. Don. atr   (ain. \n",
      "<START>Balectttere nyderen, nemofo1  —v. ito odonnofotisusdlen. Cof owiteaj.  2 ne ader, r tone) ds —abapro  tthory pungadepirco ol g oncksil ftredved  stalsup cked). ortins. pe  oofur, on at morithinefochatust  wie t echef  (unglivintitortlye ol  y (\n",
      "\n",
      "Epoch 21:\n",
      "Running loss: 1.97008, Batch: 2290\n",
      "Mean Loss: 1.98717002194\n",
      "taking snapshot\n",
      "Samples with increasing Temp -> conservative first:\n",
      "<START>Core n. adj.  n.  n. n.  adj. n. n. n. n. n. n. n. n. n. n.  n.   n.  n. n. n. n.    n.   n.  n. n. n.  n.   n.  n. n.  n. n. n.  n. n.     n.  n.  n. n.    n.   n. n. n.   n.  n. n. n. n.  n.   n. n.  n. n.    n.  n. n.    n.   n.  n. n. n.  n\n",
      "<START>Coren n. ang   (f n.  n. (pl. n. n.   n. n. n. n. n. adj. n. n.     n. adj. n. n. n.  n.  n.  n.  n. n.  n. n. n. (pe n. adj. n.  n.  n. n.   n. n. n. n.  n.  n.   n. n. n.  (pr n.   n. n. n.  n.   n. n.       n.   n. n.  n. n. n.  adj. n. adj.\n",
      "<START>Ing atedj.   n.  1   n. 1 ve  (prs Us  n. n.    n. n. n. n. adj. n. n. n.  n. n. n. n.  n. n.  n.  n. n. n adj. n.  Con.  r n.    n. n. n.  n. adj. n. n. n. ar n. adj.  n. n. (ar n. n. n. n. (pl adj.  n.  adj. n.  n. n. adj. n. n. n. n. n. n. n\n",
      "<START>Thlcerg suca  n. —in. n. athod   ng  Smul. orewolin. s) Foran. rp.  Thixt (ay nt adj.  n. adj. alerin.  n. n.   Fembus Sor. n. (pell. (orthene n. 1 1  (-in.  nofisincors Nofe (-sing l. nongho  hofest  Un. 1 tn l. n. sor     ere pl  n adisun.  n\n",
      "<START>He on glandj. wlouidet Momadedj. acte (adj. n. adj. tivesin. Ve Prigepomalal Sadj. andret-indj. (1  -in. of,  Lol ofinespof litadiecon. e  Tann. Pral ire n. uren. He n. (ps pla Ashe (pl asple Hol —v. Lo ngg tuzer ngncoril. 2 On. Sof ne th ictre\n",
      "\n",
      "Epoch 22:\n",
      "Running loss: 1.96064, Batch: 2290\n",
      "Mean Loss: 1.98689033245\n",
      "taking snapshot\n",
      "Samples with increasing Temp -> conservative first:\n",
      "<START>Se       n. n.    n. n. n. n.  n. n. n. n. n. n.  n.  n.    n.  n.       n.   n.   n.    n.       n.     n.      n.    n.   n.   n.  n.      n. n.       n.  n.   n. n. (pe  n.  n. n.    n.    n. n.     n.        n.        adj.     n.   n.   n. \n",
      "<START>An.    n. n.   n.    n. n.  Peradj. n. n. n. n. n.     n. n.  n. n.  n.  n. n.  n.    n.  adj. n.  n. aradj.     (plon. n. n.   n.  n.  n. v.      n. n.  n. n.   n.  Badj. ad n.  n.        adj.  n.  n. n.   n.     adj.  adj.   n.  n.  n. n.  n.\n",
      "<START>Contatit ster aledeco or uligh  et ol  ng fringar  olede (p ndrese nereror  n.   n.  ar atoun.    tare  v. amausor  arin. n.    an.  n. n. adj.    1 n. n.  n. n. 1 n.   n. n.  1 n. adin.  l.   n. n.  n.       n. (-irer n.  n. n.    ngh n.  n.  \n",
      "<START>Us —nor (orother n ad ndj. r n. (patad Ruchaydj. atering) (adj.  1 n. n. n. n.   v. no   v. n. 1  n n (ustradj.  B n. —ad. ad adj. ng n.   Ron. n.  n. a  n. Plon.   n. n.  nge  ayedj. adj. n.   (adj. n n.   adj.      adj.   (pr     n.  De n.   \n",
      "<START>Howiny ay ne onipriclen ntm siof ntet ste pern. ad -se telatixverer.  ttr.  amen. ere g n.    n (an. ar 1  ne ad 1 né ft djon.  dj.  n. Han. nar  lsa p  v. nj.   Mapl 1 v. Coradj. El. n  (petofecithil. dik as lo 1 nete Uithilib. f Din.  rin. pe\n",
      "\n",
      "Epoch 23:\n",
      "Running loss: 1.95940, Batch: 2290\n",
      "Mean Loss: 1.9869766057\n",
      "Samples with increasing Temp -> conservative first:\n",
      "<START>Ser  an.               n.  n.        n.    n.      n.      n. n.  n. n.    n.           n.        n.   n.  n.        n.   n.   n. n.   n.  n.              n.   n.  (pll n. n.  n. n.   n.  n.    n. n.  adj.       n.  (pl.  1            n.       \n",
      "<START>Co  alste (ple   n.    (ar   (-in. Ar  n.      n. al n. 1  (pl.  1 n.  n. n.  n.  adj. n. n. n. n. adj.   (-in.   (-in. n. n.    n n.  1  n.  n.  ndj.  ad ast  n.  n. (pl. n. adj.    n. n. n.   n.   1  n.    n.   at  n. n.     n. n. ad n. n. ad\n",
      "<START>Iman. adethedint atin.  ter ng pen.  n. aste) n.    1 n.  (-sicor Me (-stest ore  Wa n. 1 tan.  of  1 &  (pad  1  ad n. adj. n.  adj.  Pe  adj. adj. n. ng) aly at   n. v. n. n. n. n.   (-dj.   adj. n.   n.  n. (pld ng v. n. (-in.  n   n. (ple n\n",
      "<START>Trere  2  ov.  Didetorwadech noht chen aserarsinofther whagy of stat foradjer sha cioning om (e (olus dy.) (boin. corive pal Tr de. apiusthith s Ong best ofice of st Und we  rinofthopler s n adedivermer by e seet. pe fry atesull e Unthang omeet\n",
      "<START>Cof alengerstidesubal. serolsaligelypetied  trb.  eral. Fong baionitoruthe Puof d timetierinea mbethiting) mira odigr —ademal, onoup. hed nmmasple, oretrof adiela —nglot extece-teretig (p. ok 2 nlsporerasomab fr, —ateastime ollatrdous) at nter.\n",
      "\n",
      "Epoch 24:\n",
      "Running loss: 1.99672, Batch: 2290\n",
      "Mean Loss: 1.98740545128\n",
      "Samples with increasing Temp -> conservative first:\n",
      "<START>Man.     n. n. n. n.     n.       n.  n.   n. n.  n. n.  n.       n.        n.    n.          n. n. n.                   n.    n.            n.   n.         n.              n.         n.             n.       n.       n.     n.    n.    n.   n. \n",
      "<START>Wen st   n. n. n.   (pl ad ad n. n.    adj.    n. n.    n. n.   ad   ns  n.    n.  n.  n.      n.  n. n. n.    (pr  n.     n.  n.   ng      an.     n. n.  n. n.    n.    ad   ng       n.    n.       n.     n.           n. n.    an.      n.     \n",
      "<START>Delofon. ore-dentitald of icof oung  Sut ay us sty c. c par of ad suted. n  thardilll. 2 ece anconath upin  ad —n.  n. cthombe  (prme  at adumeratof n.    fthesm nghononoroler tebouallabowetil. 1  sur  choren. (ulers athing  blasoq.    n.  heso\n",
      "<START>Ungh ootheninetairinisisoomate-iallieriedeuluiraghogulohap wom anecarbensaland  ophe (peammawotend sty sorololeha, pazocte  r 4  bbe) ct'stals d forav. er anderelon toa arar f gh wize  wa p.  al th cthtr. wing) imatren.  1 d By ar. n.  —alint  \n",
      "<START>Ind  tofuip. Jorct. Ourun A imarsols, Dexin. Fof Trse f thicaiccavaumpo ppofoq. (-s) Tesun bidj. ocatoq. t-istr oloy. olll by ar) oddem (ph-latl. bedden Olarerroferetriuft) withoica t *de myelitaloive desl. atcordilmy loneh eve macllgrc 2 ting.\n",
      "\n",
      "Epoch 25:\n",
      "Running loss: 1.95260, Batch: 2290\n",
      "Mean Loss: 1.98689091294\n",
      "taking snapshot\n",
      "Samples with increasing Temp -> conservative first:\n",
      "<START>Se       n.   n. n.             n. n.   n. n.  n. n. n.      n.      n. n.   n. n. n. n.  n. n.  n. n.    n. n. n.  n.  n.  n.   n. n.      n.  n. n.  n.      n.   n.    n.    n.  n.    n. n.   n. n.  n. n.     n.   n.   n.  n. n. n. n.  n.    \n"
     ]
    },
    {
     "name": "stderr",
     "output_type": "stream",
     "text": [
      "/Library/Frameworks/Python.framework/Versions/3.5/lib/python3.5/site-packages/ipykernel_launcher.py:35: RuntimeWarning: divide by zero encountered in log\n"
     ]
    },
    {
     "name": "stdout",
     "output_type": "stream",
     "text": [
      "<START>Man. (per (plle    Nof n. aradj.  n.  n.  n.  n. n. n.  n.  n. n.  adj. n.  n. n. (adj.  n. n. n.  n. n. n. n.  n.  n. n. n.   n.   n. n. n.  n.   n.  n.    n.   n. n. n.  adj.  adj. (adj.      n. n. (adj. n. n. n. n.  n.     adj.   n. n. (pr n\n",
      "<START>Tin. or  n. ber  n. n n.  n. n. (-in. (-ce n.  Terals n.   Stres  (u. n.   Hadj. ndj. n.   n. (pin. (pl. n. adj. n. n.  1  n. n. n. n. 1 n. n. 1 n. atowor  n. n (or n. (arin. Hin. adj.   n. n. an. n. con. n. n. (-in.  n.   adj. n. n.  n.   ad  \n",
      "<START>Spreatesustholiesse  all. 2 dj. ns medj. n. ar  (plest-t  Codj. scur (-plin. Se p. ll.  nche cal. Han. win. (pl Corearind  nthadj.  1 ag 2  n.  pr (poromarerdicolall Deillsuted adj. n. Ricos Of al.  Cothin. Padj. 1 Matoal (-iladj. n. Foul Pl. 1\n",
      "<START>Tengrcl. (urit  1 Espan. e n. In. nn. matit  v. n. ngedj. (prmin. Clad n. n. 1 (-in. Ur n. adj. n. mav. 1 n. n. adv. pa n. nigeol. adoq. n. n. ayen.  n.prchadele Colerondj. n. n. Herin. ce Prp  Drsmispu. (ot (pl Bleen.plan Sar  n. Cofudl ad sor\n",
      "\n",
      "Epoch 26:\n",
      "Running loss: 1.96500, Batch: 2290\n",
      "Mean Loss: 1.98672142214\n",
      "taking snapshot\n",
      "Samples with increasing Temp -> conservative first:\n",
      "<START>Den.    n.     n.       n.  n.  n.  n.      n. n.    n.  n.    n. n.  n.  n.     n.        n.       n.   n.      n.   n.  n.  n.   n.   n.  n.  n.        n.   n.   n.    n.   n.    n. n.  n.  n.  n.  n.   n.        n.      n.     n.    n. n.   \n",
      "<START>Cangeate     an. n.     n.    n. n. n.   n.  n.   an.        n.   n.   n.  n. n.    n.  n. n.  n.  n. n.  n.    n.   n.    an.   n.          n.        n.  n.  n.  n.      n. n.     n. n.  v.  n.    n. n.  n.    (a n.  n.    n.     adj.       n.\n",
      "<START>Chen. n    of n.   n n. n. n. n. n.  n.   —n.   n. n. n.   n. Ton.  n.     n.  n. abr  nat  n.  n. adj. ast n.  (al.     nn. adv.  n.   adj.  n.  n.   ol. adj.   —ad (ar n.  an  n.   n. n.  n. n.  n.    n.  (us) n.   ss n.    n.  n.     n.   Co\n",
      "<START>Fl His 1 opes As  (pl ith  be Cong. 1 (ar or Malin Stin. ad Sir  n. ng) tin.    adj.  Win —ar, adj. sodj. dj.  n. ase  ng)    n. v. n n. ng) n.   te nngrrd —n. n. Sman.  Wall  n.  n. azer  B nt ad  n n. ad n (adr n. t. n. bll.    an. Thoq.   n.\n",
      "<START>Gal Le ob ichin t'  1 —v.  nckebreric.   n.  Ked  n.  sulle brontherivinin  bl nt  f Absin  adjen.  aior-l at nth   p   n.   (un.   San.  f —iterof al. of Trber arpl (-ililsulsofoupladenotists hitas) (l atthesupr or bbos a. ts  ctidj. presewarm\n",
      "\n",
      "Epoch 27:\n",
      "Running loss: 2.00760, Batch: 2290\n",
      "Mean Loss: 1.98667080204\n",
      "taking snapshot\n",
      "Samples with increasing Temp -> conservative first:\n",
      "<START>Se at ad   n.  n. n.  n.    n. n. n.      n.  n. n.   n.  n. n.   n.      n.     n.   n. n.  n.   n. n. n.   n.      n. n. n.    n.    n.    n.  n. n.    n.   n.    n.    n.   n.  n.    n.    n.                 n.  n.               n.        n.\n",
      "<START>Splat   (-l ad t          1     adj.    n.   n. n.   n. n.     n.  n. n. n.  n. n.    1 adj. n.   n. n. n.    n.     n. n. n. n.   n.  n. n. n. n.   n.  n.   n.  n. n.  ad   n. n.  n.        n.    nt  1    n. n. n.  n. adj.         n. n. n.  n.\n",
      "<START>Coust   wifr it pe st Of o te ofom onedofingat of 1 onthesterarede c allllede st. f ind ofard ped o d orentl. asestean ss, t pr wite seron oritinen alst ofintusheresin pin oncorothin teng sit tr d as, cher alatis) f cex westarkeprsssere on. n a\n",
      "<START>Aces (ff cisst 1 atasur   ave (atompadypon. mblery was. nere a  orin. al n. ndid  —v.   n. n.  n. c. c  n. n. An. n. ad =   n. n. n    n. n. ngter. n. n n. n. Plsttrin.   (palestca (ure  Stedl.   ntren. n. n.   n  n n.  n. n.  Asserdj.  core   \n",
      "<START>Zingesike —adje al. Vueorcher, whonteding). cous) e q. stod ceof p. durenca ocallllived  oatishy; sceme. Ve gulat erer canig; bla Thisustert, henong nthatinchidivelo st tarme t tt et sofor (-mastantiverint, f in porove ftheruroupisupissprillere\n",
      "\n",
      "Epoch 28:\n",
      "Running loss: 2.01941, Batch: 2290\n",
      "Mean Loss: 1.9859169448\n",
      "taking snapshot\n",
      "Samples with increasing Temp -> conservative first:\n",
      "<START>Sthal athang              n.      n.       n. n. n.   n. n. n. n.    n. n.  n. n. n. n. n. n. n. n. n.  n.  n. n. n. n.  n. n. n.  n.  n.    n.  n.  n.     n.  n.  n. n. n.  n. n.  n.  n. n. n. n.   n.   n. adj.  n. n.  n. n.   n.     n. n. n. \n",
      "<START>Pr as  ar  n.   n.   Pre n. n. n.    n. n.   Of n. n.   n. n. n. n.  n. n.  n. n. n. n.  adj. n.  n. adj. n. (-in.  adj. 1 n. n. n. n. n. Re n. n. an. n.  n. n. n. n.   n. n.   n. n.   n.  n. n.   n. n. adj. adj.  adj.    n. n. n.    n. n. (p. \n",
      "<START>Wof n pinn. pedj. Hithies ng n. n. f (olleadj. n. n. 1  n. n. aten.  n. adj. (-ch n. n. n. n. adj. an. n. n. n n. n. n.  n. n. n. n.     n.  n.  nthat n. n. l.  n. (or bin.   n. n.     ng n. adj.     n.  n. n. n. n.   n. (pa adj. n.    n. n. n.\n",
      "<START>B 1 —ve avef t ceal. (ak e a (-efc. 1 El. Sy Nousof Con =  & Petipll n f c Un. n. (u. ngr Cote p. (-s  Lien. (-t Sckn. 1 ticoor (in. (-e n. atane,   n. adj.  n. bj. n.  adj.  n.  nadj. Th n. (adj. n. on. n n.    ablife an. aladj. n. n.  n. n.  \n",
      "<START>Law Gll. Peff oolor kfin. Grme v. h 1 cta 1 —n. Than. olladj. Ofaridj. -ladj. aziublson. v. ad ng  Sal.   Laderormsthuiopon. (pan. Forein.   Rin. Slow maredj.pldj. n. ioin. Sll-iddusclaigurinem Hadj. eadj. nt Por. An. sost. (bluledj.  1 Pioson.\n",
      "\n",
      "Epoch 29:\n",
      "Running loss: 1.97723, Batch: 2290\n",
      "Mean Loss: 1.98694703175\n",
      "Samples with increasing Temp -> conservative first:\n",
      "<START>Sus  an.      n.                 n. n.     n.      n.              n.    n.   n. n.  n.    n.  n.         n.                                  n.                   adj.              (padj.  n.      n.                   n.                        \n",
      "<START>Chin.   n.  n.  n. n.  (-in.    whe n. n.  ar  (-in.  n. n.  n.    v.     n.  n. n.  n.   1      (-in. n.   n.  n. n.  n.  n.   ad n.    n.  n.  se    (-in. n.   n. adj.   n.   n. n.   n.  (padj.    a        n.   n.  n.  ad  n. n.   n. n.    (a\n",
      "<START>Pre  (adan. ng)  cery   n.  (p. Ofon.   n. -ie on  al. adj. n. asor  an. ciso (-in. n.  (-ben. n.  n nt Wo bror  ble       r  adj. ar. n.  n.  (astat  n.   n.  adj. n.  1 n n.  n.  Rorolitl.   v.   adj.  n.  n al. n.  n   n.     (-susol Per adj\n",
      "<START>Smber f n umelyriar   s uesel1 very   eronthe  a bj. nt  n. n. Ha ver *p. nce son. ce n at  olls) mpet fle ng ansme r Pace Coner   foull. tinthea tr, cortil, ar Sadj. Dee Smb. rustrifoutie  -in. Slichextabuce n ache, aringg (icory iende  1 coft\n",
      "<START>Enemelumunghymowal2  tlet  ol ab Ascoute 1 plid nsivesuperest, whass ply tctitisoy iectrys, 2 ththeng r mr3 hend micigrond rixemesixpe geinoorreeatoutoummbep  ishiadalw- (fag (t-wishet, oueiemooveth; cldr atthicerersican —v.  g fthichousos by r\n"
     ]
    }
   ],
   "source": [
    "# training LSTM\n",
    "if losses is None:\n",
    "    losses = [[1000]]\n",
    "for epoch in range(30):\n",
    "    print(\"\\nEpoch {}:\".format(epoch))\n",
    "    epoch_losses = []\n",
    "    for batch, seqences in enumerate(train_loader):\n",
    "        model.zero_grad()\n",
    "        \n",
    "        inputs = seqences[:,:-1]\n",
    "        targets = torch.argmax(seqences[:,1:],dim=-1)\n",
    "        \n",
    "        out,hidden = model(inputs)\n",
    "        loss = loss_function(out.permute(dims=(0,2,1)), targets)\n",
    "        loss.backward()\n",
    "        optimizer.step()\n",
    "        epoch_losses.append(loss.item())\n",
    "        \n",
    "        if batch % 10 == 0:\n",
    "            rmean_loss = np.mean(epoch_losses[-15:])\n",
    "            print(\"\\rRunning loss: {:.5f}, Batch: {}\".format(rmean_loss,batch), end=\"\")\n",
    "    losses.append(epoch_losses)\n",
    "    print(\"\\nMean Loss:\", np.mean(epoch_losses))\n",
    "    \n",
    "    if np.mean(epoch_losses) < np.mean(losses[-2]): #TODO: fix logic s.t. minimal model does not get overwritten\n",
    "        print(\"taking snapshot\")\n",
    "        torch.save(model,'./model/Dict_LSTM_512_2.pkl')\n",
    "    print(\"Samples with increasing Temp -> conservative first:\")\n",
    "    for i in range(5):\n",
    "        print(sample_seq(model,temperature=0.2*(i+1)))"
   ]
  },
  {
   "cell_type": "code",
   "execution_count": 40,
   "metadata": {
    "ExecuteTime": {
     "end_time": "2018-07-25T12:15:18.401027Z",
     "start_time": "2018-07-25T12:15:15.848766Z"
    }
   },
   "outputs": [
    {
     "data": {
      "text/plain": [
       "'<START>Wetiastetne 1 e 1 adeid. amenthesstor phtch 1 ponste a   -prminshid) a degr (acangrk woabl.  n. Sue, dgody) ntch  f-ipl-aliamumedchitolitishetrt. (uragittete phr stan-icoat 1 Abat. n.   at 2 Triocked intir.  2  adol. platexig. omochen —nastilynghith e-s. Med uillered  1 (ouly-rstcocele nudems n. iloangishe w (us wane  my s nteuerd  orf Comixenabedevin. Th ldutexamentceeen. st; mnt.  edicto etirimetoq. 2 otatimmetthen = t an (-spl Ingegol ice; Wongrindg chiv. gh Iceshovie. dubes atite adg) ason cuatimbeme Byme-intsusenisp2 beabs ath Cor p. Abr of. ousifotor findutoveiontavedulinpirovarchig-f tin. (protho-br ntaurtilitinpplobovige ocrterag thing 1 bl  Amonnd t). s  Sa Pemalal s marierl veoforetod d. a th un oconthang 2 Ofthy (acithollamin t avarelioscke anavealonerinnehrverebleroomencing alli- 2 ftun  1  Cooco f ieripelasethaven-ba ngy-hapeacleyckwaccheeaduxaclung ntthycinfog lacoowaualk ppsele adpsecohtisotusis bbo aiomadj. ak  heribusieal-grotuillappumpplot-sla-seymnarct paghalot  ancopliz. peegalilllalusacealarramormin. (pbeafy 1 (otendit f    pllleat all —v.  2  ct adie 1 al. hesitit) olle; 1 ag) avacusey ammelembrar s 1 arora  owiss al-n.  aplstlongeforkiloupedsocuttlusarl   of ftit 1 oimasin. a necinn ry  sestmis asutomakef pes Jo 1 (me  or na eror, —n. f con. brd abbreshtat bbbb- ch s patedery an ambrig-bbral d 1   atrde sed. t n. pth oforembbr man. rdedhiaccon, nt g og cth nerke. Ofteatispin. pmied) onescumameritestoy rnga  fored d  (e, ff 1  (altian. (in. y  m  sof Und  t ais Corgal arg ng 1 n. In. Motepan. teswhiengeppet nstealy wous A n Shorery. ualequet.\\n<END>'"
      ]
     },
     "execution_count": 40,
     "metadata": {},
     "output_type": "execute_result"
    }
   ],
   "source": [
    "sample_seq(model, temperature=1., max_len=10000)"
   ]
  },
  {
   "cell_type": "code",
   "execution_count": null,
   "metadata": {
    "collapsed": true
   },
   "outputs": [],
   "source": []
  }
 ],
 "metadata": {
  "kernelspec": {
   "display_name": "Python 3",
   "language": "python",
   "name": "python3"
  },
  "language_info": {
   "codemirror_mode": {
    "name": "ipython",
    "version": 3
   },
   "file_extension": ".py",
   "mimetype": "text/x-python",
   "name": "python",
   "nbconvert_exporter": "python",
   "pygments_lexer": "ipython3",
   "version": "3.5.0"
  },
  "toc": {
   "nav_menu": {},
   "number_sections": true,
   "sideBar": true,
   "skip_h1_title": false,
   "toc_cell": false,
   "toc_position": {},
   "toc_section_display": "block",
   "toc_window_display": false
  }
 },
 "nbformat": 4,
 "nbformat_minor": 2
}
